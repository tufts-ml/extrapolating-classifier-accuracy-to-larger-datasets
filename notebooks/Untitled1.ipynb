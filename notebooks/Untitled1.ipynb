{
 "cells": [
  {
   "cell_type": "code",
   "execution_count": 1,
   "metadata": {},
   "outputs": [],
   "source": [
    "import os\n",
    "import math\n",
    "import itertools\n",
    "import numpy as np\n",
    "import pandas as pd\n",
    "# PyTorch\n",
    "import torch\n",
    "# Matplotlib\n",
    "import matplotlib.pyplot as plt\n",
    "plt.rcParams.update({'font.size': 12})"
   ]
  },
  {
   "cell_type": "code",
   "execution_count": 2,
   "metadata": {},
   "outputs": [],
   "source": [
    "import sys\n",
    "sys.path.append('../src/')\n",
    "%load_ext autoreload\n",
    "%autoreload 2\n",
    "# Importing our custom module(s)\n",
    "import metrics\n",
    "import models\n",
    "import priors\n",
    "import utils"
   ]
  },
  {
   "cell_type": "code",
   "execution_count": 3,
   "metadata": {},
   "outputs": [],
   "source": [
    "repo_path = '/cluster/home/eharve06/extrapolating-classifier-accuracy-to-bigger-datasets'\n",
    "experiments_path = os.path.join(repo_path, 'experiments')\n",
    "models_path = os.path.join(repo_path, 'models')\n",
    "models_without_priors_path = os.path.join(repo_path, 'models_without_priors')"
   ]
  },
  {
   "cell_type": "code",
   "execution_count": 4,
   "metadata": {},
   "outputs": [],
   "source": [
    "def bootstrap(row, size):\n",
    "    if int(row.name)<=360:\n",
    "        return np.mean(row.test_auroc, axis=0)\n",
    "    else:\n",
    "        num_splits, num_labels = np.array(row.test_auroc).shape        \n",
    "        samples = [np.random.choice(np.array(row.test_auroc)[:,label_index], size=size, replace=True) for label_index in range(num_labels)]\n",
    "        return np.mean(samples, axis=1)\n",
    "\n",
    "def coverage_rates(experiments_path, dataset_name, distance, label_name, models_path, model_name, size):\n",
    "    # Get label index\n",
    "    label_index = None\n",
    "    labels = [['Atelectasis', 'Effusion', 'Infiltration'], ['Bacterial', 'Viral'], \n",
    "              ['Normal', 'Benign', 'Malignant'], ['PLAX', 'PSAX', 'A4C', 'A2C'], \n",
    "              ['Alzheimer’s'], ['WMD', 'CBI']]\n",
    "    for label in labels:\n",
    "        if label_name in label:\n",
    "            label_index = label.index(label_name)\n",
    "    assert label_index is not None, 'label not found in labels_list'\n",
    "    \n",
    "    filename = '{}_{}.csv'.format(dataset_name, distance)\n",
    "    df = utils.load_experiment(os.path.join(experiments_path, filename))\n",
    "    # Take mean of each random seed at each dataset size\n",
    "    df = df.groupby('n').agg(lambda x: list(x))\n",
    "    df.test_auroc = df.test_auroc.apply(lambda x: np.mean(x, axis=0))\n",
    "    df.random_state = df.random_state.apply(lambda x: 'mean')\n",
    "    df = df.reset_index()\n",
    "    \n",
    "    X_train, y_train, _, _ = utils.split_df(df, index=label_index)\n",
    "    model_filename = '{}_{}_{}.pt'.format(dataset_name, label_name, model_name)\n",
    "    print(model_filename)\n",
    "    model_filepath = os.path.join(models_path, model_filename)\n",
    "    model_objects = utils.load_model(model_name, model_filepath, X_train, y_train)\n",
    "    \n",
    "    # TODO: Start loop\n",
    "    tpms = []\n",
    "    for i in range(500):\n",
    "        df = utils.load_experiment(os.path.join(experiments_path, filename))\n",
    "        # Take mean of each random seed at each dataset size\n",
    "        df = df.groupby('n').agg(lambda item: list(item))\n",
    "        df.test_auroc = df.apply(lambda item: bootstrap(item, size), axis=1)\n",
    "        df.random_state = df.random_state.apply(lambda x: 'mean')\n",
    "        df = df.reset_index()\n",
    "\n",
    "        _, _, X_test, y_test = utils.split_df(df, index=label_index)\n",
    "        model, *likelihood_objects = model_objects\n",
    "        likelihood, = likelihood_objects\n",
    "        with torch.no_grad(): predictions = likelihood(model(X_test))\n",
    "        loc = predictions.mean.numpy()\n",
    "        scale = predictions.stddev.numpy()\n",
    "        tpm = priors.truncnorm_probability_mass(y_test.detach().numpy(), 0.0, 1.0, loc, scale)\n",
    "        tpms.append(tpm)\n",
    "    #print('${:.1f}\\pm{:.1f}\\%$ &'.format(100*np.mean(tpms), 100*np.std(tpms)))\n",
    "    print('${:.1f}\\% ({:.1f}-{:.1f})$ &'.format(100*np.mean(tpms), 100*np.min(tpms), 100*np.max(tpms)))"
   ]
  },
  {
   "cell_type": "code",
   "execution_count": 5,
   "metadata": {},
   "outputs": [
    {
     "name": "stdout",
     "output_type": "stream",
     "text": [
      "ChestX-ray14_Atelectasis_GPPowerLaw.pt\n",
      "$45.1\\% (30.1-54.6)$ &\n",
      "ChestX-ray14_Atelectasis_GPArctan.pt\n",
      "$44.5\\% (26.7-53.7)$ &\n",
      "ChestX-ray14_Atelectasis_GPPowerLaw.pt\n",
      "$29.4\\% (19.1-35.3)$ &\n",
      "ChestX-ray14_Atelectasis_GPArctan.pt\n",
      "$21.9\\% (13.5-27.9)$ &\n"
     ]
    }
   ],
   "source": [
    "coverage_rates(experiments_path, 'ChestX-ray14', 'short_range', 'Atelectasis', models_path, 'GPPowerLaw', 3)\n",
    "coverage_rates(experiments_path, 'ChestX-ray14', 'short_range', 'Atelectasis', models_path, 'GPArctan', 3)\n",
    "coverage_rates(experiments_path, 'ChestX-ray14', 'long_range', 'Atelectasis', models_path, 'GPPowerLaw', 3)\n",
    "coverage_rates(experiments_path, 'ChestX-ray14', 'long_range', 'Atelectasis', models_path, 'GPArctan', 3)"
   ]
  },
  {
   "cell_type": "code",
   "execution_count": 6,
   "metadata": {},
   "outputs": [
    {
     "name": "stdout",
     "output_type": "stream",
     "text": [
      "ChestX-ray14_Effusion_GPPowerLaw.pt\n",
      "$38.1\\% (24.5-47.2)$ &\n",
      "ChestX-ray14_Effusion_GPArctan.pt\n",
      "$38.0\\% (24.9-46.8)$ &\n",
      "ChestX-ray14_Effusion_GPPowerLaw.pt\n",
      "$15.2\\% (8.8-19.4)$ &\n",
      "ChestX-ray14_Effusion_GPArctan.pt\n",
      "$15.1\\% (9.0-19.7)$ &\n"
     ]
    }
   ],
   "source": [
    "coverage_rates(experiments_path, 'ChestX-ray14', 'short_range', 'Effusion', models_path, 'GPPowerLaw', 3)\n",
    "coverage_rates(experiments_path, 'ChestX-ray14', 'short_range', 'Effusion', models_path, 'GPArctan', 3)\n",
    "coverage_rates(experiments_path, 'ChestX-ray14', 'long_range', 'Effusion', models_path, 'GPPowerLaw', 3)\n",
    "coverage_rates(experiments_path, 'ChestX-ray14', 'long_range', 'Effusion', models_path, 'GPArctan', 3)"
   ]
  },
  {
   "cell_type": "code",
   "execution_count": 7,
   "metadata": {},
   "outputs": [
    {
     "name": "stdout",
     "output_type": "stream",
     "text": [
      "ChestX-ray14_Infiltration_GPPowerLaw.pt\n",
      "$44.9\\% (33.2-51.9)$ &\n",
      "ChestX-ray14_Infiltration_GPArctan.pt\n",
      "$23.6\\% (9.2-42.5)$ &\n",
      "ChestX-ray14_Infiltration_GPPowerLaw.pt\n",
      "$25.5\\% (16.7-30.7)$ &\n",
      "ChestX-ray14_Infiltration_GPArctan.pt\n",
      "$1.0\\% (0.0-6.3)$ &\n"
     ]
    }
   ],
   "source": [
    "coverage_rates(experiments_path, 'ChestX-ray14', 'short_range', 'Infiltration', models_path, 'GPPowerLaw', 3)\n",
    "coverage_rates(experiments_path, 'ChestX-ray14', 'short_range', 'Infiltration', models_path, 'GPArctan', 3)\n",
    "coverage_rates(experiments_path, 'ChestX-ray14', 'long_range', 'Infiltration', models_path, 'GPPowerLaw', 3)\n",
    "coverage_rates(experiments_path, 'ChestX-ray14', 'long_range', 'Infiltration', models_path, 'GPArctan', 3)"
   ]
  },
  {
   "cell_type": "code",
   "execution_count": 8,
   "metadata": {},
   "outputs": [
    {
     "name": "stdout",
     "output_type": "stream",
     "text": [
      "Chest_X-Ray_Bacterial_GPPowerLaw.pt\n",
      "$42.4\\% (16.8-61.0)$ &\n",
      "Chest_X-Ray_Bacterial_GPArctan.pt\n",
      "$42.7\\% (17.5-61.0)$ &\n",
      "Chest_X-Ray_Bacterial_GPPowerLaw.pt\n",
      "$37.0\\% (4.4-58.5)$ &\n",
      "Chest_X-Ray_Bacterial_GPArctan.pt\n",
      "$44.0\\% (18.9-59.0)$ &\n"
     ]
    }
   ],
   "source": [
    "coverage_rates(experiments_path, 'Chest_X-Ray', 'short_range', 'Bacterial', models_path, 'GPPowerLaw', 3)\n",
    "coverage_rates(experiments_path, 'Chest_X-Ray', 'short_range', 'Bacterial', models_path, 'GPArctan', 3)\n",
    "coverage_rates(experiments_path, 'Chest_X-Ray', 'long_range', 'Bacterial', models_path, 'GPPowerLaw', 3)\n",
    "coverage_rates(experiments_path, 'Chest_X-Ray', 'long_range', 'Bacterial', models_path, 'GPArctan', 3)"
   ]
  },
  {
   "cell_type": "code",
   "execution_count": null,
   "metadata": {},
   "outputs": [
    {
     "name": "stdout",
     "output_type": "stream",
     "text": [
      "Chest_X-Ray_Viral_GPPowerLaw.pt\n",
      "$39.7\\% (20.2-55.4)$ &\n",
      "Chest_X-Ray_Viral_GPArctan.pt\n",
      "$38.7\\% (18.6-53.5)$ &\n",
      "Chest_X-Ray_Viral_GPPowerLaw.pt\n"
     ]
    }
   ],
   "source": [
    "coverage_rates(experiments_path, 'Chest_X-Ray', 'short_range', 'Viral', models_path, 'GPPowerLaw', 3)\n",
    "coverage_rates(experiments_path, 'Chest_X-Ray', 'short_range', 'Viral', models_path, 'GPArctan', 3)\n",
    "coverage_rates(experiments_path, 'Chest_X-Ray', 'long_range', 'Viral', models_path, 'GPPowerLaw', 3)\n",
    "coverage_rates(experiments_path, 'Chest_X-Ray', 'long_range', 'Viral', models_path, 'GPArctan', 3)"
   ]
  },
  {
   "cell_type": "code",
   "execution_count": null,
   "metadata": {},
   "outputs": [],
   "source": [
    "coverage_rates(experiments_path, 'BUSI', 'short_range', 'Normal', models_path, 'GPPowerLaw', 3)\n",
    "coverage_rates(experiments_path, 'BUSI', 'short_range', 'Normal', models_path, 'GPArctan', 3)"
   ]
  },
  {
   "cell_type": "code",
   "execution_count": null,
   "metadata": {},
   "outputs": [],
   "source": [
    "coverage_rates(experiments_path, 'BUSI', 'short_range', 'Benign', models_path, 'GPPowerLaw', 3)\n",
    "coverage_rates(experiments_path, 'BUSI', 'short_range', 'Benign', models_path, 'GPArctan', 3)"
   ]
  },
  {
   "cell_type": "code",
   "execution_count": null,
   "metadata": {},
   "outputs": [],
   "source": [
    "coverage_rates(experiments_path, 'BUSI', 'short_range', 'Malignant', models_path, 'GPPowerLaw', 3)\n",
    "coverage_rates(experiments_path, 'BUSI', 'short_range', 'Malignant', models_path, 'GPArctan', 3)"
   ]
  },
  {
   "cell_type": "code",
   "execution_count": null,
   "metadata": {},
   "outputs": [],
   "source": [
    "coverage_rates(experiments_path, 'TMED-2', 'short_range', 'PLAX', models_path, 'GPPowerLaw', 3)\n",
    "coverage_rates(experiments_path, 'TMED-2', 'short_range', 'PLAX', models_path, 'GPArctan', 3)\n",
    "coverage_rates(experiments_path, 'TMED-2', 'long_range', 'PLAX', models_path, 'GPPowerLaw', 3)\n",
    "coverage_rates(experiments_path, 'TMED-2', 'long_range', 'PLAX', models_path, 'GPArctan', 3)"
   ]
  },
  {
   "cell_type": "code",
   "execution_count": null,
   "metadata": {},
   "outputs": [],
   "source": [
    "coverage_rates(experiments_path, 'TMED-2', 'short_range', 'PSAX', models_path, 'GPPowerLaw', 3)\n",
    "coverage_rates(experiments_path, 'TMED-2', 'short_range', 'PSAX', models_path, 'GPArctan', 3)\n",
    "coverage_rates(experiments_path, 'TMED-2', 'long_range', 'PSAX', models_path, 'GPPowerLaw', 3)\n",
    "coverage_rates(experiments_path, 'TMED-2', 'long_range', 'PSAX', models_path, 'GPArctan', 3)"
   ]
  },
  {
   "cell_type": "code",
   "execution_count": null,
   "metadata": {},
   "outputs": [],
   "source": [
    "coverage_rates(experiments_path, 'TMED-2', 'short_range', 'A4C', models_path, 'GPPowerLaw', 3)\n",
    "coverage_rates(experiments_path, 'TMED-2', 'short_range', 'A4C', models_path, 'GPArctan', 3)\n",
    "coverage_rates(experiments_path, 'TMED-2', 'long_range', 'A4C', models_path, 'GPPowerLaw', 3)\n",
    "coverage_rates(experiments_path, 'TMED-2', 'long_range', 'A4C', models_path, 'GPArctan', 3)"
   ]
  },
  {
   "cell_type": "code",
   "execution_count": null,
   "metadata": {},
   "outputs": [],
   "source": [
    "coverage_rates(experiments_path, 'TMED-2', 'short_range', 'A2C', models_path, 'GPPowerLaw', 3)\n",
    "coverage_rates(experiments_path, 'TMED-2', 'short_range', 'A2C', models_path, 'GPArctan', 3)\n",
    "coverage_rates(experiments_path, 'TMED-2', 'long_range', 'A2C', models_path, 'GPPowerLaw', 3)\n",
    "coverage_rates(experiments_path, 'TMED-2', 'long_range', 'A2C', models_path, 'GPArctan', 3)"
   ]
  },
  {
   "cell_type": "code",
   "execution_count": null,
   "metadata": {},
   "outputs": [],
   "source": [
    "coverage_rates(experiments_path, 'OASIS-3', 'short_range', 'Alzheimer’s', models_path, 'GPPowerLaw', 15)\n",
    "coverage_rates(experiments_path, 'OASIS-3', 'short_range', 'Alzheimer’s', models_path, 'GPArctan', 15)"
   ]
  },
  {
   "cell_type": "code",
   "execution_count": null,
   "metadata": {},
   "outputs": [],
   "source": [
    "coverage_rates(experiments_path, 'Pilot', 'short_range', 'WMD', models_path, 'GPPowerLaw', 15)\n",
    "coverage_rates(experiments_path, 'Pilot', 'short_range', 'WMD', models_path, 'GPArctan', 15)"
   ]
  },
  {
   "cell_type": "code",
   "execution_count": null,
   "metadata": {},
   "outputs": [],
   "source": [
    "coverage_rates(experiments_path, 'Pilot', 'short_range', 'CBI', models_path, 'GPPowerLaw', 15)\n",
    "coverage_rates(experiments_path, 'Pilot', 'short_range', 'CBI', models_path, 'GPArctan', 15)"
   ]
  },
  {
   "cell_type": "code",
   "execution_count": null,
   "metadata": {},
   "outputs": [],
   "source": []
  }
 ],
 "metadata": {
  "kernelspec": {
   "display_name": "bdl_2022f_env",
   "language": "python",
   "name": "bdl_2022f_env"
  },
  "language_info": {
   "codemirror_mode": {
    "name": "ipython",
    "version": 3
   },
   "file_extension": ".py",
   "mimetype": "text/x-python",
   "name": "python",
   "nbconvert_exporter": "python",
   "pygments_lexer": "ipython3",
   "version": "3.8.0"
  }
 },
 "nbformat": 4,
 "nbformat_minor": 2
}
