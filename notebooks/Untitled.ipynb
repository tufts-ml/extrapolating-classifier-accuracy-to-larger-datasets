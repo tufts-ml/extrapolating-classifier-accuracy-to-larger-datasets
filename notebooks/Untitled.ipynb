{
 "cells": [
  {
   "cell_type": "code",
   "execution_count": 1,
   "metadata": {},
   "outputs": [],
   "source": [
    "import os\n",
    "import math\n",
    "import itertools\n",
    "import numpy as np\n",
    "import pandas as pd\n",
    "# PyTorch\n",
    "import torch\n",
    "# Matplotlib\n",
    "import matplotlib.pyplot as plt\n",
    "plt.rcParams.update({'font.size': 12})"
   ]
  },
  {
   "cell_type": "code",
   "execution_count": 2,
   "metadata": {},
   "outputs": [],
   "source": [
    "import sys\n",
    "sys.path.append('../src/')\n",
    "%load_ext autoreload\n",
    "%autoreload 2\n",
    "# Importing our custom module(s)\n",
    "import metrics\n",
    "import models\n",
    "import priors\n",
    "import utils"
   ]
  },
  {
   "cell_type": "code",
   "execution_count": 3,
   "metadata": {},
   "outputs": [],
   "source": [
    "repo_path = '/cluster/home/eharve06/extrapolating-classifier-accuracy-to-bigger-datasets'\n",
    "experiments_path = os.path.join(repo_path, 'experiments')\n",
    "models_path = os.path.join(repo_path, 'models')\n",
    "models_without_priors_path = os.path.join(repo_path, 'models_without_priors')"
   ]
  },
  {
   "cell_type": "code",
   "execution_count": 4,
   "metadata": {},
   "outputs": [],
   "source": [
    "def grouped_mean_auroc(df):\n",
    "    df = df.sample(frac=1.0)\n",
    "    df.reset_index(drop=True, inplace=True)\n",
    "    group_size = 3\n",
    "    df['group'] = (df.index // group_size) + 1\n",
    "    df = df.groupby('group').test_auroc.agg(lambda x: list(x)).reset_index()\n",
    "    test_aurocs = np.array(df.test_auroc.tolist())\n",
    "    # _, label, group\n",
    "    mean_test_aurocs = np.mean(test_aurocs, axis=1)\n",
    "    return mean_test_aurocs\n",
    "\n",
    "def coverage_ninety_five(model_objects, size, test_auroc):\n",
    "    model, *likelihood_objects = model_objects\n",
    "    label_map = { models.PowerLaw: 'Power law', models.Arctan: 'Arctan', models.GPPowerLaw: 'GP pow', models.GPArctan: 'GP arc' }\n",
    "    label = label_map.get(type(model), 'Unknown') # Default label is 'Unknown' \n",
    "    if label.startswith('GP'):\n",
    "        likelihood, = likelihood_objects\n",
    "        with torch.no_grad(): predictions = likelihood(model(size*torch.ones(100)))\n",
    "        loc = predictions.mean.numpy()\n",
    "        scale = predictions.stddev.numpy()\n",
    "        #lower, upper = priors.truncated_normal_uncertainty(0.0, 1.0, loc, scale)   \n",
    "        lower, upper = priors.truncated_normal_uncertainty(0.0, 1.0, loc, scale, 0.1, 0.9)   \n",
    "        coverage_95 = metrics.coverage(test_auroc, lower, upper)\n",
    "        return coverage_95"
   ]
  },
  {
   "cell_type": "code",
   "execution_count": 5,
   "metadata": {},
   "outputs": [],
   "source": [
    "def coverage_rates(experiments_path, dataset_name, label_name, models_path, model_name):\n",
    "    # Get label index\n",
    "    label_index = None\n",
    "    labels = [['Atelectasis', 'Effusion', 'Infiltration'], ['Bacterial', 'Viral'], \n",
    "              ['Normal', 'Benign', 'Malignant'], ['PLAX', 'PSAX', 'A4C', 'A2C'], \n",
    "              ['Alzheimer’s'], ['WMD', 'CBI']]\n",
    "    for label in labels:\n",
    "        if label_name in label:\n",
    "            label_index = label.index(label_name)\n",
    "    assert label_index is not None, 'label not found in labels_list'\n",
    "\n",
    "    filename = '{}_long_range.csv'.format(dataset_name)\n",
    "    df = utils.load_experiment(os.path.join(experiments_path, filename))\n",
    "    # Take mean of each random seed at each dataset size\n",
    "    df = df.groupby('n').agg(lambda x: list(x))\n",
    "    df.test_auroc = df.test_auroc.apply(lambda x: np.mean(x, axis=0))\n",
    "    df.random_state = df.random_state.apply(lambda x: 'mean')\n",
    "    df = df.reset_index()\n",
    "    \n",
    "    sizes = [5000, 10000, 20000]\n",
    "    filenames = ['{}_5k.csv'.format(dataset_name), '{}_10k.csv'.format(dataset_name), '{}_20k.csv'.format(dataset_name)]\n",
    "    dfs = [utils.load_experiment(os.path.join(experiments_path, filename)) for filename in filenames]\n",
    "    \n",
    "    X_train, y_train, X_test, y_test = utils.split_df(df, index=label_index)\n",
    "    model_filename = '{}_{}_{}.pt'.format(dataset_name, label_name, model_name)\n",
    "    print(model_filename)\n",
    "    model_filepath = os.path.join(models_path, model_filename)\n",
    "    model_objects = utils.load_model(model_name, model_filepath, X_train, y_train)\n",
    "    \n",
    "    coverages = {5000: [], 10000: [], 20000: []}\n",
    "    for i in range(500):\n",
    "        test_aurocs = [grouped_mean_auroc(df) for df in dfs]\n",
    "        for size, test_auroc in zip(sizes, test_aurocs):\n",
    "            coverage_95 = coverage_ninety_five(model_objects, size, test_auroc[:,label_index])\n",
    "            coverages[size].append(coverage_95)\n",
    "    for size in sizes:\n",
    "        print('{} 95% coverage at {}k: ${:.1f}\\pm{:.1f}\\%$'.format(label_name, size//1000, 100*np.mean(coverages[size]), 100*np.std(coverages[size])))"
   ]
  },
  {
   "cell_type": "code",
   "execution_count": 6,
   "metadata": {},
   "outputs": [
    {
     "name": "stdout",
     "output_type": "stream",
     "text": [
      "ChestX-ray14_Atelectasis_GPPowerLaw.pt\n",
      "Atelectasis 95% coverage at 5k: $100.0\\pm0.0\\%$\n",
      "Atelectasis 95% coverage at 10k: $100.0\\pm0.1\\%$\n",
      "Atelectasis 95% coverage at 20k: $99.9\\pm0.2\\%$\n",
      "ChestX-ray14_Atelectasis_GPArctan.pt\n",
      "Atelectasis 95% coverage at 5k: $97.9\\pm1.2\\%$\n",
      "Atelectasis 95% coverage at 10k: $77.7\\pm2.7\\%$\n",
      "Atelectasis 95% coverage at 20k: $29.6\\pm2.9\\%$\n",
      "ChestX-ray14_Atelectasis_GPPowerLaw.pt\n",
      "Atelectasis 95% coverage at 5k: $80.4\\pm2.7\\%$\n",
      "Atelectasis 95% coverage at 10k: $39.6\\pm2.9\\%$\n",
      "Atelectasis 95% coverage at 20k: $12.1\\pm2.4\\%$\n"
     ]
    }
   ],
   "source": [
    "coverage_rates(experiments_path, 'ChestX-ray14', 'Atelectasis', models_path, 'GPPowerLaw')\n",
    "coverage_rates(experiments_path, 'ChestX-ray14', 'Atelectasis', models_path, 'GPArctan')\n",
    "coverage_rates(experiments_path, 'ChestX-ray14', 'Atelectasis', models_without_priors_path, 'GPPowerLaw')"
   ]
  },
  {
   "cell_type": "code",
   "execution_count": 7,
   "metadata": {},
   "outputs": [
    {
     "name": "stdout",
     "output_type": "stream",
     "text": [
      "ChestX-ray14_Effusion_GPPowerLaw.pt\n",
      "Effusion 95% coverage at 5k: $67.5\\pm2.7\\%$\n",
      "Effusion 95% coverage at 10k: $9.0\\pm2.1\\%$\n",
      "Effusion 95% coverage at 20k: $0.1\\pm0.3\\%$\n",
      "ChestX-ray14_Effusion_GPArctan.pt\n",
      "Effusion 95% coverage at 5k: $61.9\\pm3.0\\%$\n",
      "Effusion 95% coverage at 10k: $6.9\\pm1.9\\%$\n",
      "Effusion 95% coverage at 20k: $0.1\\pm0.2\\%$\n",
      "ChestX-ray14_Effusion_GPPowerLaw.pt\n",
      "Effusion 95% coverage at 5k: $0.0\\pm0.1\\%$\n",
      "Effusion 95% coverage at 10k: $0.0\\pm0.0\\%$\n",
      "Effusion 95% coverage at 20k: $0.0\\pm0.0\\%$\n"
     ]
    }
   ],
   "source": [
    "coverage_rates(experiments_path, 'ChestX-ray14', 'Effusion', models_path, 'GPPowerLaw')\n",
    "coverage_rates(experiments_path, 'ChestX-ray14', 'Effusion', models_path, 'GPArctan')\n",
    "coverage_rates(experiments_path, 'ChestX-ray14', 'Effusion', models_without_priors_path, 'GPPowerLaw')"
   ]
  },
  {
   "cell_type": "code",
   "execution_count": 8,
   "metadata": {},
   "outputs": [
    {
     "name": "stdout",
     "output_type": "stream",
     "text": [
      "ChestX-ray14_Infiltration_GPPowerLaw.pt\n",
      "Infiltration 95% coverage at 5k: $99.4\\pm0.8\\%$\n",
      "Infiltration 95% coverage at 10k: $99.1\\pm0.9\\%$\n",
      "Infiltration 95% coverage at 20k: $97.8\\pm1.3\\%$\n",
      "ChestX-ray14_Infiltration_GPArctan.pt\n",
      "Infiltration 95% coverage at 5k: $0.0\\pm0.0\\%$\n",
      "Infiltration 95% coverage at 10k: $0.0\\pm0.0\\%$\n",
      "Infiltration 95% coverage at 20k: $0.0\\pm0.0\\%$\n",
      "ChestX-ray14_Infiltration_GPPowerLaw.pt\n",
      "Infiltration 95% coverage at 5k: $44.6\\pm2.9\\%$\n",
      "Infiltration 95% coverage at 10k: $13.1\\pm2.4\\%$\n",
      "Infiltration 95% coverage at 20k: $1.0\\pm1.0\\%$\n"
     ]
    }
   ],
   "source": [
    "coverage_rates(experiments_path, 'ChestX-ray14', 'Infiltration', models_path, 'GPPowerLaw')\n",
    "coverage_rates(experiments_path, 'ChestX-ray14', 'Infiltration', models_path, 'GPArctan')\n",
    "coverage_rates(experiments_path, 'ChestX-ray14', 'Infiltration', models_without_priors_path, 'GPPowerLaw')"
   ]
  },
  {
   "cell_type": "code",
   "execution_count": 9,
   "metadata": {},
   "outputs": [
    {
     "name": "stdout",
     "output_type": "stream",
     "text": [
      "TMED-2_PLAX_GPPowerLaw.pt\n",
      "PLAX 95% coverage at 5k: $100.0\\pm0.1\\%$\n",
      "PLAX 95% coverage at 10k: $100.0\\pm0.0\\%$\n",
      "PLAX 95% coverage at 20k: $100.0\\pm0.0\\%$\n",
      "TMED-2_PLAX_GPArctan.pt\n",
      "PLAX 95% coverage at 5k: $3.9\\pm1.6\\%$\n",
      "PLAX 95% coverage at 10k: $0.1\\pm0.2\\%$\n",
      "PLAX 95% coverage at 20k: $0.0\\pm0.0\\%$\n",
      "TMED-2_PLAX_GPPowerLaw.pt\n",
      "PLAX 95% coverage at 5k: $100.0\\pm0.0\\%$\n",
      "PLAX 95% coverage at 10k: $100.0\\pm0.0\\%$\n",
      "PLAX 95% coverage at 20k: $100.0\\pm0.0\\%$\n"
     ]
    }
   ],
   "source": [
    "coverage_rates(experiments_path, 'TMED-2', 'PLAX', models_path, 'GPPowerLaw')\n",
    "coverage_rates(experiments_path, 'TMED-2', 'PLAX', models_path, 'GPArctan')\n",
    "coverage_rates(experiments_path, 'TMED-2', 'PLAX', models_without_priors_path, 'GPPowerLaw')"
   ]
  },
  {
   "cell_type": "code",
   "execution_count": 10,
   "metadata": {},
   "outputs": [
    {
     "name": "stdout",
     "output_type": "stream",
     "text": [
      "TMED-2_PSAX_GPPowerLaw.pt\n",
      "PSAX 95% coverage at 5k: $100.0\\pm0.0\\%$\n",
      "PSAX 95% coverage at 10k: $100.0\\pm0.0\\%$\n",
      "PSAX 95% coverage at 20k: $100.0\\pm0.2\\%$\n",
      "TMED-2_PSAX_GPArctan.pt\n",
      "PSAX 95% coverage at 5k: $100.0\\pm0.2\\%$\n",
      "PSAX 95% coverage at 10k: $99.2\\pm0.8\\%$\n",
      "PSAX 95% coverage at 20k: $89.5\\pm2.4\\%$\n",
      "TMED-2_PSAX_GPPowerLaw.pt\n",
      "PSAX 95% coverage at 5k: $100.0\\pm0.0\\%$\n",
      "PSAX 95% coverage at 10k: $100.0\\pm0.0\\%$\n",
      "PSAX 95% coverage at 20k: $100.0\\pm0.2\\%$\n"
     ]
    }
   ],
   "source": [
    "coverage_rates(experiments_path, 'TMED-2', 'PSAX', models_path, 'GPPowerLaw')\n",
    "coverage_rates(experiments_path, 'TMED-2', 'PSAX', models_path, 'GPArctan')\n",
    "coverage_rates(experiments_path, 'TMED-2', 'PSAX', models_without_priors_path, 'GPPowerLaw')"
   ]
  },
  {
   "cell_type": "code",
   "execution_count": 11,
   "metadata": {},
   "outputs": [
    {
     "name": "stdout",
     "output_type": "stream",
     "text": [
      "TMED-2_A4C_GPPowerLaw.pt\n",
      "A4C 95% coverage at 5k: $99.9\\pm0.2\\%$\n",
      "A4C 95% coverage at 10k: $99.4\\pm0.7\\%$\n",
      "A4C 95% coverage at 20k: $94.2\\pm1.8\\%$\n",
      "TMED-2_A4C_GPArctan.pt\n",
      "A4C 95% coverage at 5k: $0.3\\pm0.6\\%$\n",
      "A4C 95% coverage at 10k: $0.1\\pm0.2\\%$\n",
      "A4C 95% coverage at 20k: $0.0\\pm0.2\\%$\n",
      "TMED-2_A4C_GPPowerLaw.pt\n",
      "A4C 95% coverage at 5k: $99.9\\pm0.3\\%$\n",
      "A4C 95% coverage at 10k: $99.4\\pm0.7\\%$\n",
      "A4C 95% coverage at 20k: $94.0\\pm1.8\\%$\n"
     ]
    }
   ],
   "source": [
    "coverage_rates(experiments_path, 'TMED-2', 'A4C', models_path, 'GPPowerLaw')\n",
    "coverage_rates(experiments_path, 'TMED-2', 'A4C', models_path, 'GPArctan')\n",
    "coverage_rates(experiments_path, 'TMED-2', 'A4C', models_without_priors_path, 'GPPowerLaw')"
   ]
  },
  {
   "cell_type": "code",
   "execution_count": 12,
   "metadata": {},
   "outputs": [
    {
     "name": "stdout",
     "output_type": "stream",
     "text": [
      "TMED-2_A2C_GPPowerLaw.pt\n",
      "A2C 95% coverage at 5k: $62.2\\pm2.8\\%$\n",
      "A2C 95% coverage at 10k: $96.6\\pm1.6\\%$\n",
      "A2C 95% coverage at 20k: $100.0\\pm0.2\\%$\n",
      "TMED-2_A2C_GPArctan.pt\n",
      "A2C 95% coverage at 5k: $0.0\\pm0.0\\%$\n",
      "A2C 95% coverage at 10k: $0.0\\pm0.0\\%$\n",
      "A2C 95% coverage at 20k: $0.0\\pm0.0\\%$\n",
      "TMED-2_A2C_GPPowerLaw.pt\n",
      "A2C 95% coverage at 5k: $57.3\\pm2.9\\%$\n",
      "A2C 95% coverage at 10k: $95.2\\pm1.8\\%$\n",
      "A2C 95% coverage at 20k: $100.0\\pm0.2\\%$\n"
     ]
    }
   ],
   "source": [
    "coverage_rates(experiments_path, 'TMED-2', 'A2C', models_path, 'GPPowerLaw')\n",
    "coverage_rates(experiments_path, 'TMED-2', 'A2C', models_path, 'GPArctan')\n",
    "coverage_rates(experiments_path, 'TMED-2', 'A2C', models_without_priors_path, 'GPPowerLaw')"
   ]
  },
  {
   "cell_type": "code",
   "execution_count": null,
   "metadata": {},
   "outputs": [],
   "source": []
  }
 ],
 "metadata": {
  "kernelspec": {
   "display_name": "bdl_2022f_env",
   "language": "python",
   "name": "bdl_2022f_env"
  },
  "language_info": {
   "codemirror_mode": {
    "name": "ipython",
    "version": 3
   },
   "file_extension": ".py",
   "mimetype": "text/x-python",
   "name": "python",
   "nbconvert_exporter": "python",
   "pygments_lexer": "ipython3",
   "version": "3.8.0"
  }
 },
 "nbformat": 4,
 "nbformat_minor": 2
}
