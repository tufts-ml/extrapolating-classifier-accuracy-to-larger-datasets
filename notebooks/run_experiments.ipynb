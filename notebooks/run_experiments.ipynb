{
 "cells": [
  {
   "cell_type": "code",
   "execution_count": 2,
   "metadata": {},
   "outputs": [],
   "source": [
    "import sys\n",
    "sys.path.append('../src/')\n",
    "import itertools\n",
    "\n",
    "import warnings\n",
    "warnings.filterwarnings('ignore')"
   ]
  },
  {
   "cell_type": "code",
   "execution_count": 3,
   "metadata": {},
   "outputs": [],
   "source": [
    "%load_ext autoreload\n",
    "%autoreload 2\n",
    "\n",
    "from finetune import *"
   ]
  },
  {
   "cell_type": "code",
   "execution_count": null,
   "metadata": {},
   "outputs": [],
   "source": [
    "directory = '/cluster/tufts/hugheslab/eharve06/encoded_Dataset_BUSI_with_GT/'\n",
    "# [normal, benign, malignant]\n",
    "columns = ['n', 'random_state', 'train_BA', 'train_auroc', 'val_BA', 'val_auroc', 'test_BA', 'test_auroc']\n",
    "df = pd.DataFrame(columns=columns)\n",
    "ns = [200, 240, 280, 320, 360, 400, 440, 480, 520, 560, 600]\n",
    "random_states = [1001, 2001, 3001]\n",
    "for model_index, (n, random_state) in enumerate(itertools.product(ns, random_states)):\n",
    "    train_BA, train_auroc, val_BA, val_auroc, test_BA, test_auroc = finetune(directory, n, random_state)\n",
    "    row = [n, random_state, train_BA, train_auroc, val_BA, val_auroc, test_BA, test_auroc]\n",
    "    df.loc[model_index] = row\n",
    "    print(df.loc[model_index])\n",
    "df.to_csv('/cluster/home/eharve06/extrapolating-classifier-accuracy-to-bigger-datasets/experiments/Breast_Ultrasound_Dataset_short_range.csv')"
   ]
  },
  {
   "cell_type": "code",
   "execution_count": null,
   "metadata": {},
   "outputs": [],
   "source": [
    "directory = '/cluster/tufts/hugheslab/eharve06/encoded_chest_xray/'\n",
    "# [normal, pneumonia]\n",
    "columns = ['n', 'random_state', 'train_BA', 'train_auroc', 'val_BA', 'val_auroc', 'test_BA', 'test_auroc']\n",
    "df = pd.DataFrame(columns=columns)\n",
    "ns = [200, 240, 280, 320, 360, 400, 440, 480, 520, 560, 600]\n",
    "ns = [200, 240, 280, 320, 360, 800, 1600, 3200]\n",
    "random_states = [1001, 2001, 3001]\n",
    "for model_index, (n, random_state) in enumerate(itertools.product(ns, random_states)):\n",
    "    train_BA, train_auroc, val_BA, val_auroc, test_BA, test_auroc = finetune(directory, n, random_state)\n",
    "    row = [n, random_state, train_BA, train_auroc, val_BA, val_auroc, test_BA, test_auroc]\n",
    "    df.loc[model_index] = row\n",
    "    print(df.loc[model_index])\n",
    "df.to_csv('/cluster/home/eharve06/extrapolating-classifier-accuracy-to-bigger-datasets/experiments/chest_xray_long_range.csv')"
   ]
  },
  {
   "cell_type": "code",
   "execution_count": null,
   "metadata": {},
   "outputs": [],
   "source": [
    "directory = '/cluster/tufts/hugheslab/eharve06/encoded_images/'\n",
    "# [Atelectasis, Cardiomegaly, Consolidation, Edema, Effusion,\n",
    "#  Emphysema, Fibrosis, Hernia, Infiltration, Mass, No Finding,\n",
    "#  Nodule, Pleural_Thickening, Pneumonia, Pneumothorax]\n",
    "columns = ['n', 'random_state', 'train_BA', 'train_auroc', 'val_BA', 'val_auroc', 'test_BA', 'test_auroc']\n",
    "df = pd.DataFrame(columns=columns)\n",
    "ns = [200, 240, 280, 320, 360, 400, 440, 480, 520, 560, 600]\n",
    "#ns = [200, 240, 280, 320, 360, 800, 1600, 3200, 6400, 12800, 25600]\n",
    "random_states = [1001, 2001, 3001]\n",
    "for model_index, (n, random_state) in enumerate(itertools.product(ns, random_states)):\n",
    "    train_BA, train_auroc, val_BA, val_auroc, test_BA, test_auroc = finetune(directory, n, random_state)\n",
    "    row = [n, random_state, train_BA, train_auroc, val_BA, val_auroc, test_BA, test_auroc]\n",
    "    df.loc[model_index] = row\n",
    "    print(df.loc[model_index])"
   ]
  },
  {
   "cell_type": "code",
   "execution_count": null,
   "metadata": {},
   "outputs": [],
   "source": []
  }
 ],
 "metadata": {
  "kernelspec": {
   "display_name": "bdl_2022f_env",
   "language": "python",
   "name": "bdl_2022f_env"
  },
  "language_info": {
   "codemirror_mode": {
    "name": "ipython",
    "version": 3
   },
   "file_extension": ".py",
   "mimetype": "text/x-python",
   "name": "python",
   "nbconvert_exporter": "python",
   "pygments_lexer": "ipython3",
   "version": "3.8.0"
  }
 },
 "nbformat": 4,
 "nbformat_minor": 2
}
