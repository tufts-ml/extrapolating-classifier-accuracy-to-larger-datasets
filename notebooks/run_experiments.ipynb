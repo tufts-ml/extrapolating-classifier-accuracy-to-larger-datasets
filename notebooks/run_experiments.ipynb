{
 "cells": [
  {
   "cell_type": "code",
   "execution_count": 1,
   "metadata": {},
   "outputs": [],
   "source": [
    "import sys\n",
    "sys.path.append('../src/')\n",
    "import itertools\n",
    "import warnings\n",
    "warnings.filterwarnings('ignore')"
   ]
  },
  {
   "cell_type": "code",
   "execution_count": 2,
   "metadata": {},
   "outputs": [],
   "source": [
    "%load_ext autoreload\n",
    "%autoreload 2\n",
    "\n",
    "from finetune_2D import *"
   ]
  },
  {
   "cell_type": "code",
   "execution_count": null,
   "metadata": {},
   "outputs": [],
   "source": [
    "path = '/cluster/tufts/hugheslab/eharve06/encoded_Chest_X-Ray/'\n",
    "columns = ['n', 'random_state', 'train_BA', 'train_auroc', 'val_BA', 'val_auroc', 'test_BA', 'test_auroc']\n",
    "df = pd.DataFrame(columns=columns)\n",
    "ns = [60, 94, 147, 230, 360, 414, 475, 546, 627, 720]\n",
    "random_states = [1001, 2001, 3001]\n",
    "for model_index, (n, random_state) in enumerate(itertools.product(ns, random_states)):\n",
    "    train_BA, train_auroc, val_BA, val_auroc, test_BA, test_auroc = finetune(path, n, random_state)\n",
    "    row = [n, random_state, train_BA, train_auroc, val_BA, val_auroc, test_BA, test_auroc]\n",
    "    df.loc[model_index] = row\n",
    "    print(df.loc[model_index])\n",
    "df.to_csv('/cluster/home/eharve06/extrapolating-classifier-accuracy-to-bigger-datasets/experiments/Chest_X-Ray_short_range.csv')"
   ]
  },
  {
   "cell_type": "code",
   "execution_count": null,
   "metadata": {},
   "outputs": [],
   "source": [
    "path = '/cluster/tufts/hugheslab/eharve06/encoded_Chest_X-Ray/'\n",
    "columns = ['n', 'random_state', 'train_BA', 'train_auroc', 'val_BA', 'val_auroc', 'test_BA', 'test_auroc']\n",
    "df = pd.DataFrame(columns=columns)\n",
    "ns = [60, 94, 147, 230, 360, 804, 1796, 4010]\n",
    "random_states = [1001, 2001, 3001]\n",
    "for model_index, (n, random_state) in enumerate(itertools.product(ns, random_states)):\n",
    "    train_BA, train_auroc, val_BA, val_auroc, test_BA, test_auroc = finetune(path, n, random_state)\n",
    "    row = [n, random_state, train_BA, train_auroc, val_BA, val_auroc, test_BA, test_auroc]\n",
    "    df.loc[model_index] = row\n",
    "    print(df.loc[model_index])\n",
    "df.to_csv('/cluster/home/eharve06/extrapolating-classifier-accuracy-to-bigger-datasets/experiments/Chest_X-Ray_long_range.csv')"
   ]
  },
  {
   "cell_type": "code",
   "execution_count": null,
   "metadata": {},
   "outputs": [],
   "source": [
    "path = '/cluster/tufts/hugheslab/eharve06/encoded_BUSI/'\n",
    "columns = ['n', 'random_state', 'train_BA', 'train_auroc', 'val_BA', 'val_auroc', 'test_BA', 'test_auroc']\n",
    "df = pd.DataFrame(columns=columns)\n",
    "ns = [60, 94, 147, 230, 360, 414, 475, 546]\n",
    "random_states = [1001, 2001, 3001]\n",
    "for model_index, (n, random_state) in enumerate(itertools.product(ns, random_states)):\n",
    "    train_BA, train_auroc, val_BA, val_auroc, test_BA, test_auroc = finetune(path, n, random_state)\n",
    "    row = [n, random_state, train_BA, train_auroc, val_BA, val_auroc, test_BA, test_auroc]\n",
    "    df.loc[model_index] = row\n",
    "    print(df.loc[model_index])\n",
    "df.to_csv('/cluster/home/eharve06/extrapolating-classifier-accuracy-to-bigger-datasets/experiments/BUSI_short_range.csv')"
   ]
  },
  {
   "cell_type": "code",
   "execution_count": null,
   "metadata": {},
   "outputs": [],
   "source": [
    "path = '/cluster/tufts/hugheslab/eharve06/encoded_images/'\n",
    "columns = ['n', 'random_state', 'train_BA', 'train_auroc', 'val_BA', 'val_auroc', 'test_BA', 'test_auroc']\n",
    "df = pd.DataFrame(columns=columns)\n",
    "ns = [60, 94, 147, 230, 360, 414, 475, 546, 627, 720]\n",
    "random_states = [1001, 2001, 3001]\n",
    "for model_index, (n, random_state) in enumerate(itertools.product(ns, random_states)):\n",
    "    train_BA, train_auroc, val_BA, val_auroc, test_BA, test_auroc = finetune(path, n, random_state)\n",
    "    row = [n, random_state, train_BA, train_auroc, val_BA, val_auroc, test_BA, test_auroc]\n",
    "    df.loc[model_index] = row\n",
    "    print(df.loc[model_index])\n",
    "df.to_csv('/cluster/home/eharve06/extrapolating-classifier-accuracy-to-bigger-datasets/experiments/ChestX-ray14_short_range.csv')"
   ]
  },
  {
   "cell_type": "code",
   "execution_count": null,
   "metadata": {},
   "outputs": [],
   "source": [
    "path = '/cluster/tufts/hugheslab/eharve06/encoded_images/'\n",
    "columns = ['n', 'random_state', 'train_BA', 'train_auroc', 'val_BA', 'val_auroc', 'test_BA', 'test_auroc']\n",
    "df = pd.DataFrame(columns=columns)\n",
    "ns = [60, 94, 147, 230, 360, 804, 1796, 4010, 8955, 20000]\n",
    "random_states = [1001, 2001, 3001]\n",
    "for model_index, (n, random_state) in enumerate(itertools.product(ns, random_states)):\n",
    "    train_BA, train_auroc, val_BA, val_auroc, test_BA, test_auroc = finetune(path, n, random_state)\n",
    "    row = [n, random_state, train_BA, train_auroc, val_BA, val_auroc, test_BA, test_auroc]\n",
    "    df.loc[model_index] = row\n",
    "    print(df.loc[model_index])\n",
    "df.to_csv('/cluster/home/eharve06/extrapolating-classifier-accuracy-to-bigger-datasets/experiments/ChestX-ray14_long_range.csv')"
   ]
  },
  {
   "cell_type": "code",
   "execution_count": null,
   "metadata": {},
   "outputs": [],
   "source": [
    "path = '/cluster/tufts/hugheslab/eharve06/encoded_TMED-2'\n",
    "columns = ['n', 'random_state', 'train_BA', 'train_auroc', 'val_BA', 'val_auroc', 'test_BA', 'test_auroc']\n",
    "df = pd.DataFrame(columns=columns)\n",
    "ns = [60, 94, 147, 230, 360, 414, 475, 546, 627, 720]\n",
    "random_states = [1001, 2001, 3001]\n",
    "for model_index, (n, random_state) in enumerate(itertools.product(ns, random_states)):\n",
    "    train_BA, train_auroc, val_BA, val_auroc, test_BA, test_auroc = finetune(path, n, random_state)\n",
    "    row = [n, random_state, train_BA, train_auroc, val_BA, val_auroc, test_BA, test_auroc]\n",
    "    df.loc[model_index] = row\n",
    "    print(df.loc[model_index])\n",
    "df.to_csv('/cluster/home/eharve06/extrapolating-classifier-accuracy-to-bigger-datasets/experiments/TMED-2_short_range.csv')"
   ]
  },
  {
   "cell_type": "code",
   "execution_count": 3,
   "metadata": {},
   "outputs": [
    {
     "name": "stdout",
     "output_type": "stream",
     "text": [
      "n                                                           20000\n",
      "random_state                                                 3001\n",
      "train_BA        [0.9611399368833532, 0.9622971912075919, 0.935...\n",
      "train_auroc     [0.9929961022235316, 0.9919374400703179, 0.975...\n",
      "val_BA          [0.9641019216796533, 0.9407084698175012, 0.931...\n",
      "val_auroc       [0.9927559107725971, 0.9844174075807207, 0.972...\n",
      "test_BA         [0.9448220293634636, 0.9376648037792942, 0.922...\n",
      "test_auroc      [0.9875304716155235, 0.9855142495445705, 0.969...\n",
      "Name: 0, dtype: object\n"
     ]
    }
   ],
   "source": [
    "path = '/cluster/tufts/hugheslab/eharve06/encoded_TMED-2'\n",
    "columns = ['n', 'random_state', 'train_BA', 'train_auroc', 'val_BA', 'val_auroc', 'test_BA', 'test_auroc']\n",
    "df = pd.DataFrame(columns=columns)\n",
    "ns = [20000]\n",
    "random_states = [3001]\n",
    "for model_index, (n, random_state) in enumerate(itertools.product(ns, random_states)):\n",
    "    train_BA, train_auroc, val_BA, val_auroc, test_BA, test_auroc = finetune(path, n, random_state)\n",
    "    row = [n, random_state, train_BA, train_auroc, val_BA, val_auroc, test_BA, test_auroc]\n",
    "    df.loc[model_index] = row\n",
    "    print(df.loc[model_index])\n",
    "    df.to_csv('/cluster/home/eharve06/extrapolating-classifier-accuracy-to-bigger-datasets/experiments/TMED-2_long_range(1).csv')"
   ]
  },
  {
   "cell_type": "code",
   "execution_count": null,
   "metadata": {},
   "outputs": [],
   "source": []
  }
 ],
 "metadata": {
  "kernelspec": {
   "display_name": "bdl_2022f_env",
   "language": "python",
   "name": "bdl_2022f_env"
  },
  "language_info": {
   "codemirror_mode": {
    "name": "ipython",
    "version": 3
   },
   "file_extension": ".py",
   "mimetype": "text/x-python",
   "name": "python",
   "nbconvert_exporter": "python",
   "pygments_lexer": "ipython3",
   "version": "3.8.0"
  }
 },
 "nbformat": 4,
 "nbformat_minor": 2
}
