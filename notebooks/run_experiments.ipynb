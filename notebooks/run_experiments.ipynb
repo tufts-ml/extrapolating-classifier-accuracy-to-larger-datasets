{
 "cells": [
  {
   "cell_type": "code",
   "execution_count": 1,
   "metadata": {},
   "outputs": [],
   "source": [
    "import sys\n",
    "sys.path.append('../src/')\n",
    "import itertools\n",
    "\n",
    "import warnings\n",
    "warnings.filterwarnings('ignore')"
   ]
  },
  {
   "cell_type": "code",
   "execution_count": 2,
   "metadata": {},
   "outputs": [],
   "source": [
    "%load_ext autoreload\n",
    "%autoreload 2\n",
    "\n",
    "from finetune_2D import *"
   ]
  },
  {
   "cell_type": "code",
   "execution_count": null,
   "metadata": {},
   "outputs": [],
   "source": [
    "directory = '/cluster/tufts/hugheslab/eharve06/encoded_Chest_X-Ray/'\n",
    "columns = ['n', 'random_state', 'train_BA', 'train_auroc', 'val_BA', 'val_auroc', 'test_BA', 'test_auroc']\n",
    "df = pd.DataFrame(columns=columns)\n",
    "ns = [200, 240, 280, 320, 360, 400, 440, 480, 520, 560, 600]\n",
    "random_states = [1001, 2001, 3001]\n",
    "for model_index, (n, random_state) in enumerate(itertools.product(ns, random_states)):\n",
    "    train_BA, train_auroc, val_BA, val_auroc, test_BA, test_auroc = finetune(directory, n, random_state)\n",
    "    row = [n, random_state, train_BA, train_auroc, val_BA, val_auroc, test_BA, test_auroc]\n",
    "    df.loc[model_index] = row\n",
    "    print(df.loc[model_index])\n",
    "df.to_csv('/cluster/home/eharve06/extrapolating-classifier-accuracy-to-bigger-datasets/experiments/Chest_X-Ray_short_range.csv')"
   ]
  },
  {
   "cell_type": "code",
   "execution_count": null,
   "metadata": {},
   "outputs": [],
   "source": [
    "directory = '/cluster/tufts/hugheslab/eharve06/encoded_Chest_X-Ray/'\n",
    "columns = ['n', 'random_state', 'train_BA', 'train_auroc', 'val_BA', 'val_auroc', 'test_BA', 'test_auroc']\n",
    "df = pd.DataFrame(columns=columns)\n",
    "ns = [200, 240, 280, 320, 360, 800, 1600, 3200]\n",
    "random_states = [1001, 2001, 3001]\n",
    "for model_index, (n, random_state) in enumerate(itertools.product(ns, random_states)):\n",
    "    train_BA, train_auroc, val_BA, val_auroc, test_BA, test_auroc = finetune(directory, n, random_state)\n",
    "    row = [n, random_state, train_BA, train_auroc, val_BA, val_auroc, test_BA, test_auroc]\n",
    "    df.loc[model_index] = row\n",
    "    print(df.loc[model_index])\n",
    "df.to_csv('/cluster/home/eharve06/extrapolating-classifier-accuracy-to-bigger-datasets/experiments/Chest_X-Ray_long_range.csv')"
   ]
  },
  {
   "cell_type": "code",
   "execution_count": null,
   "metadata": {},
   "outputs": [
    {
     "name": "stdout",
     "output_type": "stream",
     "text": [
      "n                                                             200\n",
      "random_state                                                 1001\n",
      "train_BA            [1.0, 0.9830811265237495, 0.9967105263157895]\n",
      "train_auroc          [1.0, 0.998213535098781, 0.9998629385964912]\n",
      "val_BA           [0.8521634615384616, 0.7790697674418605, 0.8125]\n",
      "val_auroc       [0.8966346153846154, 0.820109439124487, 0.8528...\n",
      "test_BA         [0.8834134615384616, 0.7527359781121751, 0.770...\n",
      "test_auroc      [0.9230769230769231, 0.8153214774281806, 0.871...\n",
      "Name: 0, dtype: object\n",
      "n                                                             200\n",
      "random_state                                                 2001\n",
      "train_BA                                          [1.0, 1.0, 1.0]\n",
      "train_auroc                                       [1.0, 1.0, 1.0]\n",
      "val_BA           [0.9375, 0.8481532147742818, 0.8422619047619048]\n",
      "val_auroc       [0.9579326923076923, 0.893296853625171, 0.8801...\n",
      "test_BA         [0.8990384615384616, 0.8187414500683994, 0.827...\n",
      "test_auroc      [0.9579326923076923, 0.8850889192886457, 0.888...\n",
      "Name: 1, dtype: object\n",
      "n                                                             200\n",
      "random_state                                                 3001\n",
      "train_BA            [1.0, 0.9905660377358491, 0.9403973509933774]\n",
      "train_auroc         [1.0, 0.9996989160979526, 0.9832409785106095]\n",
      "val_BA          [0.9140625, 0.7729138166894665, 0.931547619047...\n",
      "val_auroc       [0.9242788461538461, 0.8392612859097127, 0.964...\n",
      "test_BA         [0.8221153846153846, 0.7349521203830369, 0.907...\n",
      "test_auroc      [0.9495192307692308, 0.8611491108071134, 0.960...\n",
      "Name: 2, dtype: object\n",
      "n                                                             240\n",
      "random_state                                                 1001\n",
      "train_BA            [1.0, 0.9675381903642772, 0.9547911547911547]\n",
      "train_auroc         [1.0, 0.9939776733254994, 0.9890909090909091]\n",
      "val_BA          [0.8683894230769231, 0.8194254445964433, 0.833...\n",
      "val_auroc       [0.9182692307692307, 0.8515731874145006, 0.887...\n",
      "test_BA         [0.8605769230769231, 0.7790697674418605, 0.785...\n",
      "test_auroc       [0.9375, 0.8385772913816689, 0.8732993197278911]\n",
      "Name: 3, dtype: object\n",
      "n                                                             240\n",
      "random_state                                                 2001\n",
      "train_BA                           [1.0, 0.9662406223951098, 1.0]\n",
      "train_auroc                        [1.0, 0.9895804390108364, 1.0]\n",
      "val_BA          [0.8990384615384616, 0.8303693570451436, 0.836...\n",
      "val_auroc       [0.9543269230769231, 0.8967168262653898, 0.912...\n",
      "test_BA         [0.8221153846153846, 0.8450752393980848, 0.836...\n",
      "test_auroc      [0.9254807692307693, 0.9049247606019152, 0.893...\n",
      "Name: 4, dtype: object\n",
      "n                                                             240\n",
      "random_state                                                 3001\n",
      "train_BA        [0.9611292962356792, 0.9786049443238323, 0.991...\n",
      "train_auroc     [0.9908960720130933, 0.9979690454513621, 0.999...\n",
      "val_BA          [0.8990384615384616, 0.7845417236662107, 0.907...\n",
      "val_auroc       [0.9146634615384616, 0.8522571819425444, 0.955...\n",
      "test_BA         [0.8377403846153846, 0.7551299589603283, 0.866...\n",
      "test_auroc      [0.9543269230769231, 0.8823529411764706, 0.954...\n",
      "Name: 5, dtype: object\n",
      "n                                                             280\n",
      "random_state                                                 1001\n",
      "train_BA             [1.0, 0.9752380952380952, 0.943932411674347]\n",
      "train_auroc          [1.0, 0.9982585034013606, 0.978494623655914]\n",
      "val_BA             [0.8990384615384616, 0.813953488372093, 0.875]\n",
      "val_auroc       [0.9314903846153846, 0.8590971272229823, 0.916...\n",
      "test_BA         [0.8990384615384616, 0.7906976744186047, 0.794...\n",
      "test_auroc      [0.9399038461538461, 0.8255813953488371, 0.892...\n",
      "Name: 6, dtype: object\n",
      "n                                                             280\n",
      "random_state                                                 2001\n",
      "train_BA                                          [1.0, 1.0, 1.0]\n",
      "train_auroc                                       [1.0, 1.0, 1.0]\n",
      "val_BA          [0.9068509615384616, 0.8567031463748289, 0.854...\n",
      "val_auroc       [0.9519230769230769, 0.9254445964432284, 0.903...\n",
      "test_BA             [0.8455528846153846, 0.768467852257182, 0.75]\n",
      "test_auroc      [0.9266826923076923, 0.8467852257181943, 0.845...\n",
      "Name: 7, dtype: object\n",
      "n                                                             280\n",
      "random_state                                                 3001\n",
      "train_BA             [1.0, 0.9660556159701724, 0.917419942540817]\n",
      "train_auroc         [1.0, 0.9939412769923877, 0.9754747389811506]\n",
      "val_BA          [0.921875, 0.801641586867305, 0.8839285714285714]\n",
      "val_auroc       [0.9098557692307693, 0.8618331053351573, 0.953...\n",
      "test_BA         [0.8840144230769231, 0.7606019151846786, 0.869...\n",
      "test_auroc      [0.954326923076923, 0.8912448700410397, 0.9795...\n",
      "Name: 8, dtype: object\n"
     ]
    }
   ],
   "source": [
    "directory = '/cluster/tufts/hugheslab/eharve06/encoded_BUSI/'\n",
    "columns = ['n', 'random_state', 'train_BA', 'train_auroc', 'val_BA', 'val_auroc', 'test_BA', 'test_auroc']\n",
    "df = pd.DataFrame(columns=columns)\n",
    "ns = [200, 240, 280, 320, 360, 400, 440, 480, 520, 560, 600]\n",
    "random_states = [1001, 2001, 3001]\n",
    "for model_index, (n, random_state) in enumerate(itertools.product(ns, random_states)):\n",
    "    train_BA, train_auroc, val_BA, val_auroc, test_BA, test_auroc = finetune(directory, n, random_state)\n",
    "    row = [n, random_state, train_BA, train_auroc, val_BA, val_auroc, test_BA, test_auroc]\n",
    "    df.loc[model_index] = row\n",
    "    print(df.loc[model_index])\n",
    "df.to_csv('/cluster/home/eharve06/extrapolating-classifier-accuracy-to-bigger-datasets/experiments/BUSI_short_range.csv')"
   ]
  },
  {
   "cell_type": "code",
   "execution_count": null,
   "metadata": {},
   "outputs": [],
   "source": [
    "directory = '/cluster/tufts/hugheslab/eharve06/encoded_images/'\n",
    "columns = ['n', 'random_state', 'train_BA', 'train_auroc', 'val_BA', 'val_auroc', 'test_BA', 'test_auroc']\n",
    "df = pd.DataFrame(columns=columns)\n",
    "ns = [200, 240, 280, 320, 360, 400, 440, 480, 520, 560, 600]\n",
    "random_states = [1001, 2001, 3001]\n",
    "for model_index, (n, random_state) in enumerate(itertools.product(ns, random_states)):\n",
    "    train_BA, train_auroc, val_BA, val_auroc, test_BA, test_auroc = finetune(directory, n, random_state)\n",
    "    row = [n, random_state, train_BA, train_auroc, val_BA, val_auroc, test_BA, test_auroc]\n",
    "    df.loc[model_index] = row\n",
    "    print(df.loc[model_index])\n",
    "df.to_csv('/cluster/home/eharve06/extrapolating-classifier-accuracy-to-bigger-datasets/experiments/ChestX-ray14_short_range.csv')"
   ]
  },
  {
   "cell_type": "code",
   "execution_count": null,
   "metadata": {},
   "outputs": [],
   "source": [
    "directory = '/cluster/tufts/hugheslab/eharve06/encoded_images/'\n",
    "columns = ['n', 'random_state', 'train_BA', 'train_auroc', 'val_BA', 'val_auroc', 'test_BA', 'test_auroc']\n",
    "df = pd.DataFrame(columns=columns)\n",
    "ns = [200, 240, 280, 320, 360, 800, 1600, 3200, 6400, 12800, 25600]\n",
    "random_states = [1001, 2001, 3001]\n",
    "for model_index, (n, random_state) in enumerate(itertools.product(ns, random_states)):\n",
    "    train_BA, train_auroc, val_BA, val_auroc, test_BA, test_auroc = finetune(directory, n, random_state)\n",
    "    row = [n, random_state, train_BA, train_auroc, val_BA, val_auroc, test_BA, test_auroc]\n",
    "    df.loc[model_index] = row\n",
    "    print(df.loc[model_index])\n",
    "df.to_csv('/cluster/home/eharve06/extrapolating-classifier-accuracy-to-bigger-datasets/experiments/ChestX-ray14_long_range.csv')"
   ]
  },
  {
   "cell_type": "code",
   "execution_count": null,
   "metadata": {},
   "outputs": [],
   "source": []
  }
 ],
 "metadata": {
  "kernelspec": {
   "display_name": "bdl_2022f_env",
   "language": "python",
   "name": "bdl_2022f_env"
  },
  "language_info": {
   "codemirror_mode": {
    "name": "ipython",
    "version": 3
   },
   "file_extension": ".py",
   "mimetype": "text/x-python",
   "name": "python",
   "nbconvert_exporter": "python",
   "pygments_lexer": "ipython3",
   "version": "3.8.0"
  }
 },
 "nbformat": 4,
 "nbformat_minor": 2
}
